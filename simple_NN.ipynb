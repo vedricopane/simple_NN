{
  "nbformat": 4,
  "nbformat_minor": 0,
  "metadata": {
    "colab": {
      "provenance": []
    },
    "kernelspec": {
      "name": "python3",
      "display_name": "Python 3"
    },
    "language_info": {
      "name": "python"
    }
  },
  "cells": [
    {
      "cell_type": "markdown",
      "source": [
        "Neural Network Sederhana\n",
        "\n",
        "Referensi : [https://towardsdatascience.com/deep-learning-with-python-neural-networks-complete-tutorial-6b53c0b06af0]"
      ],
      "metadata": {
        "id": "Kmq8DTszKEvQ"
      }
    },
    {
      "cell_type": "code",
      "execution_count": null,
      "metadata": {
        "id": "YP0hKJGIJ-Jk"
      },
      "outputs": [],
      "source": [
        "import numpy\n",
        "import random"
      ]
    },
    {
      "cell_type": "code",
      "source": [
        "input_value = np.array([[1.5],[0.5],[2.0]])\n",
        "input_value.shape\n",
        "input_value"
      ],
      "metadata": {
        "colab": {
          "base_uri": "https://localhost:8080/"
        },
        "id": "jtTXfwIDQAl6",
        "outputId": "de790b2e-17e4-43e2-858b-0e44fd30f08b"
      },
      "execution_count": null,
      "outputs": [
        {
          "output_type": "execute_result",
          "data": {
            "text/plain": [
              "array([[1.5],\n",
              "       [0.5],\n",
              "       [2. ]])"
            ]
          },
          "metadata": {},
          "execution_count": 114
        }
      ]
    },
    {
      "cell_type": "code",
      "source": [
        "output_value = np.array([1])\n",
        "# output_value.shape()\n",
        "output_value.reshape(1,1)\n",
        "output_value"
      ],
      "metadata": {
        "colab": {
          "base_uri": "https://localhost:8080/"
        },
        "id": "K48ZHRAFeNw-",
        "outputId": "ce656fe0-94e4-44f7-996d-5103d9a83069"
      },
      "execution_count": null,
      "outputs": [
        {
          "output_type": "execute_result",
          "data": {
            "text/plain": [
              "array([1])"
            ]
          },
          "metadata": {},
          "execution_count": 115
        }
      ]
    },
    {
      "cell_type": "code",
      "source": [
        "for i in range(1):\n",
        "  i = random.randrange(0,10)\n",
        "  # print(i)\n",
        "\n",
        "weights = np.array([i])\n",
        "# weights = np.array([4,9])\n",
        "weights"
      ],
      "metadata": {
        "colab": {
          "base_uri": "https://localhost:8080/"
        },
        "id": "wj2xXn0heR0a",
        "outputId": "b5b25a58-bd6f-4f0b-84d1-b5090d53ee02"
      },
      "execution_count": null,
      "outputs": [
        {
          "output_type": "execute_result",
          "data": {
            "text/plain": [
              "array([7])"
            ]
          },
          "metadata": {},
          "execution_count": 123
        }
      ]
    },
    {
      "cell_type": "code",
      "source": [
        "#add bias\n",
        "bias = 0.3"
      ],
      "metadata": {
        "id": "lnTSkdcWZo70"
      },
      "execution_count": null,
      "outputs": []
    },
    {
      "cell_type": "code",
      "source": [
        "#Fungsi aktivasi\n",
        "from scipy.stats.morestats import exp\n",
        "\n",
        "def sigmoid(x):\n",
        "  return 1/(1+exp(-x))\n",
        "  # return ((exp(x)-exp(-x)) / (exp(x)+exp(-x)))"
      ],
      "metadata": {
        "id": "_PLxT9S9ZuUH"
      },
      "execution_count": null,
      "outputs": []
    },
    {
      "cell_type": "code",
      "source": [
        "#derifatif fungsi sigmoid\n",
        "# chain-rule untuk gradient descent\n",
        "def der_sigmoid(x):\n",
        "  return sigmoid(x) * (1-sigmoid(x))"
      ],
      "metadata": {
        "id": "feGqJfVbaOID"
      },
      "execution_count": null,
      "outputs": []
    },
    {
      "cell_type": "code",
      "source": [
        "# a = [1.5,0.5,2.0]\n",
        "# b = [4,9]\n",
        "\n",
        "# sum = 0\n",
        "# for i in a:\n",
        "#   e = i * b[0]\n",
        "#   sum += e\n",
        "#   print(e)\n",
        "# print(sum)"
      ],
      "metadata": {
        "colab": {
          "base_uri": "https://localhost:8080/"
        },
        "id": "TF5z__dWssae",
        "outputId": "10c9d3b1-1742-4d9e-9f16-e7f80e4a747d"
      },
      "execution_count": null,
      "outputs": [
        {
          "output_type": "stream",
          "name": "stdout",
          "text": [
            "6.0\n",
            "2.0\n",
            "8.0\n",
            "16.0\n"
          ]
        }
      ]
    },
    {
      "cell_type": "code",
      "source": [
        "for epochs in range(100):\n",
        "  input = input_value\n",
        "\n",
        "  # Forward propagation\n",
        "  weighted_sum = np.dot(input, weights)\n",
        "  first_output = sigmoid(weighted_sum)\n",
        "  print('first_output :', first_output)\n",
        "\n",
        "  # Mean square error (MSE)\n",
        "  error = first_output - output_value\n",
        "  total_error = np.square(np.subtract(first_output, output_value)).mean()\n",
        "\n",
        "  # Menggabungkan kalkulasi gradient descent\n",
        "  first_der = error\n",
        "  second_der = der_sigmoid(first_output)  #derivative sigmoid\n",
        "  derivative = first_der * second_der\n",
        "\n",
        "  # Backward propagation\n",
        "  t_input = input_value.T\n",
        "  final_derivative = np.dot(t_input, derivative)\n",
        "\n",
        "  # Mean square error (MSE)\n",
        "  error2 = final_derivative - input\n",
        "  total_error2 = np.square(np.subtract(final_derivative, input)).mean()\n",
        "\n",
        "  #Update weights\n",
        "  weights = weights - 0.05 * final_derivative\n",
        "  print('weights :', weights)\n",
        "\n",
        "  #Update bias\n",
        "  for i in derivative:\n",
        "    bias = bias - 0.05 * i\n",
        "\n",
        "print('First output after forward propagation :', first_output)\n",
        "print('MSE after forward propagation :',total_error)\n",
        "print('Update weight after backward propagation :', weights)\n",
        "print('MSE after backward propagation :',total_error2)\n",
        "\n",
        "print('Weights : ', weights)\n",
        "print('Bias : ', bias)"
      ],
      "metadata": {
        "colab": {
          "base_uri": "https://localhost:8080/"
        },
        "id": "fWJD293nazC-",
        "outputId": "d8d63656-071a-408d-ca34-4df8d453d109"
      },
      "execution_count": null,
      "outputs": [
        {
          "output_type": "stream",
          "name": "stdout",
          "text": [
            "first_output : [0.99997246 0.97068777 0.99999917]\n",
            "weights : [7.00014644]\n",
            "first_output : [0.99997247 0.97068985 0.99999917]\n",
            "weights : [7.00029287]\n",
            "first_output : [0.99997248 0.97069194 0.99999917]\n",
            "weights : [7.00043929]\n",
            "first_output : [0.99997248 0.97069402 0.99999917]\n",
            "weights : [7.0005857]\n",
            "first_output : [0.99997249 0.9706961  0.99999917]\n",
            "weights : [7.0007321]\n",
            "first_output : [0.99997249 0.97069818 0.99999917]\n",
            "weights : [7.00087849]\n",
            "first_output : [0.9999725  0.97070026 0.99999917]\n",
            "weights : [7.00102486]\n",
            "first_output : [0.99997251 0.97070235 0.99999917]\n",
            "weights : [7.00117123]\n",
            "first_output : [0.99997251 0.97070443 0.99999917]\n",
            "weights : [7.00131759]\n",
            "first_output : [0.99997252 0.97070651 0.99999917]\n",
            "weights : [7.00146393]\n",
            "first_output : [0.99997252 0.97070859 0.99999917]\n",
            "weights : [7.00161027]\n",
            "first_output : [0.99997253 0.97071067 0.99999917]\n",
            "weights : [7.00175659]\n",
            "first_output : [0.99997254 0.97071275 0.99999917]\n",
            "weights : [7.0019029]\n",
            "first_output : [0.99997254 0.97071483 0.99999917]\n",
            "weights : [7.00204921]\n",
            "first_output : [0.99997255 0.97071691 0.99999917]\n",
            "weights : [7.0021955]\n",
            "first_output : [0.99997255 0.97071899 0.99999917]\n",
            "weights : [7.00234178]\n",
            "first_output : [0.99997256 0.97072107 0.99999917]\n",
            "weights : [7.00248805]\n",
            "first_output : [0.99997257 0.97072314 0.99999917]\n",
            "weights : [7.00263431]\n",
            "first_output : [0.99997257 0.97072522 0.99999917]\n",
            "weights : [7.00278056]\n",
            "first_output : [0.99997258 0.9707273  0.99999917]\n",
            "weights : [7.0029268]\n",
            "first_output : [0.99997258 0.97072938 0.99999917]\n",
            "weights : [7.00307303]\n",
            "first_output : [0.99997259 0.97073146 0.99999917]\n",
            "weights : [7.00321925]\n",
            "first_output : [0.9999726  0.97073353 0.99999917]\n",
            "weights : [7.00336546]\n",
            "first_output : [0.9999726  0.97073561 0.99999917]\n",
            "weights : [7.00351166]\n",
            "first_output : [0.99997261 0.97073769 0.99999917]\n",
            "weights : [7.00365784]\n",
            "first_output : [0.99997261 0.97073976 0.99999917]\n",
            "weights : [7.00380402]\n",
            "first_output : [0.99997262 0.97074184 0.99999917]\n",
            "weights : [7.00395018]\n",
            "first_output : [0.99997263 0.97074391 0.99999918]\n",
            "weights : [7.00409634]\n",
            "first_output : [0.99997263 0.97074599 0.99999918]\n",
            "weights : [7.00424248]\n",
            "first_output : [0.99997264 0.97074806 0.99999918]\n",
            "weights : [7.00438862]\n",
            "first_output : [0.99997264 0.97075014 0.99999918]\n",
            "weights : [7.00453474]\n",
            "first_output : [0.99997265 0.97075221 0.99999918]\n",
            "weights : [7.00468085]\n",
            "first_output : [0.99997266 0.97075429 0.99999918]\n",
            "weights : [7.00482696]\n",
            "first_output : [0.99997266 0.97075636 0.99999918]\n",
            "weights : [7.00497305]\n",
            "first_output : [0.99997267 0.97075844 0.99999918]\n",
            "weights : [7.00511913]\n",
            "first_output : [0.99997267 0.97076051 0.99999918]\n",
            "weights : [7.0052652]\n",
            "first_output : [0.99997268 0.97076258 0.99999918]\n",
            "weights : [7.00541126]\n",
            "first_output : [0.99997269 0.97076465 0.99999918]\n",
            "weights : [7.00555731]\n",
            "first_output : [0.99997269 0.97076673 0.99999918]\n",
            "weights : [7.00570335]\n",
            "first_output : [0.9999727  0.9707688  0.99999918]\n",
            "weights : [7.00584938]\n",
            "first_output : [0.9999727  0.97077087 0.99999918]\n",
            "weights : [7.00599539]\n",
            "first_output : [0.99997271 0.97077294 0.99999918]\n",
            "weights : [7.0061414]\n",
            "first_output : [0.99997272 0.97077501 0.99999918]\n",
            "weights : [7.0062874]\n",
            "first_output : [0.99997272 0.97077708 0.99999918]\n",
            "weights : [7.00643338]\n",
            "first_output : [0.99997273 0.97077916 0.99999918]\n",
            "weights : [7.00657936]\n",
            "first_output : [0.99997273 0.97078123 0.99999918]\n",
            "weights : [7.00672532]\n",
            "first_output : [0.99997274 0.9707833  0.99999918]\n",
            "weights : [7.00687128]\n",
            "first_output : [0.99997275 0.97078537 0.99999918]\n",
            "weights : [7.00701722]\n",
            "first_output : [0.99997275 0.97078744 0.99999918]\n",
            "weights : [7.00716316]\n",
            "first_output : [0.99997276 0.9707895  0.99999918]\n",
            "weights : [7.00730908]\n",
            "first_output : [0.99997276 0.97079157 0.99999918]\n",
            "weights : [7.00745499]\n",
            "first_output : [0.99997277 0.97079364 0.99999918]\n",
            "weights : [7.00760089]\n",
            "first_output : [0.99997278 0.97079571 0.99999918]\n",
            "weights : [7.00774678]\n",
            "first_output : [0.99997278 0.97079778 0.99999918]\n",
            "weights : [7.00789266]\n",
            "first_output : [0.99997279 0.97079985 0.99999918]\n",
            "weights : [7.00803853]\n",
            "first_output : [0.99997279 0.97080191 0.99999918]\n",
            "weights : [7.00818439]\n",
            "first_output : [0.9999728  0.97080398 0.99999918]\n",
            "weights : [7.00833024]\n",
            "first_output : [0.99997281 0.97080605 0.99999918]\n",
            "weights : [7.00847608]\n",
            "first_output : [0.99997281 0.97080811 0.99999918]\n",
            "weights : [7.00862191]\n",
            "first_output : [0.99997282 0.97081018 0.99999918]\n",
            "weights : [7.00876773]\n",
            "first_output : [0.99997282 0.97081225 0.99999918]\n",
            "weights : [7.00891354]\n",
            "first_output : [0.99997283 0.97081431 0.99999918]\n",
            "weights : [7.00905933]\n",
            "first_output : [0.99997284 0.97081638 0.99999918]\n",
            "weights : [7.00920512]\n",
            "first_output : [0.99997284 0.97081844 0.99999918]\n",
            "weights : [7.00935089]\n",
            "first_output : [0.99997285 0.97082051 0.99999918]\n",
            "weights : [7.00949666]\n",
            "first_output : [0.99997285 0.97082257 0.99999918]\n",
            "weights : [7.00964241]\n",
            "first_output : [0.99997286 0.97082464 0.99999918]\n",
            "weights : [7.00978816]\n",
            "first_output : [0.99997287 0.9708267  0.99999918]\n",
            "weights : [7.00993389]\n",
            "first_output : [0.99997287 0.97082876 0.99999918]\n",
            "weights : [7.01007961]\n",
            "first_output : [0.99997288 0.97083083 0.99999919]\n",
            "weights : [7.01022533]\n",
            "first_output : [0.99997288 0.97083289 0.99999919]\n",
            "weights : [7.01037103]\n",
            "first_output : [0.99997289 0.97083495 0.99999919]\n",
            "weights : [7.01051672]\n",
            "first_output : [0.9999729  0.97083702 0.99999919]\n",
            "weights : [7.0106624]\n",
            "first_output : [0.9999729  0.97083908 0.99999919]\n",
            "weights : [7.01080807]\n",
            "first_output : [0.99997291 0.97084114 0.99999919]\n",
            "weights : [7.01095373]\n",
            "first_output : [0.99997291 0.9708432  0.99999919]\n",
            "weights : [7.01109938]\n",
            "first_output : [0.99997292 0.97084526 0.99999919]\n",
            "weights : [7.01124502]\n",
            "first_output : [0.99997292 0.97084732 0.99999919]\n",
            "weights : [7.01139065]\n",
            "first_output : [0.99997293 0.97084938 0.99999919]\n",
            "weights : [7.01153627]\n",
            "first_output : [0.99997294 0.97085145 0.99999919]\n",
            "weights : [7.01168187]\n",
            "first_output : [0.99997294 0.97085351 0.99999919]\n",
            "weights : [7.01182747]\n",
            "first_output : [0.99997295 0.97085557 0.99999919]\n",
            "weights : [7.01197306]\n",
            "first_output : [0.99997295 0.97085762 0.99999919]\n",
            "weights : [7.01211863]\n",
            "first_output : [0.99997296 0.97085968 0.99999919]\n",
            "weights : [7.0122642]\n",
            "first_output : [0.99997297 0.97086174 0.99999919]\n",
            "weights : [7.01240975]\n",
            "first_output : [0.99997297 0.9708638  0.99999919]\n",
            "weights : [7.0125553]\n",
            "first_output : [0.99997298 0.97086586 0.99999919]\n",
            "weights : [7.01270083]\n",
            "first_output : [0.99997298 0.97086792 0.99999919]\n",
            "weights : [7.01284636]\n",
            "first_output : [0.99997299 0.97086998 0.99999919]\n",
            "weights : [7.01299187]\n",
            "first_output : [0.999973   0.97087203 0.99999919]\n",
            "weights : [7.01313737]\n",
            "first_output : [0.999973   0.97087409 0.99999919]\n",
            "weights : [7.01328286]\n",
            "first_output : [0.99997301 0.97087615 0.99999919]\n",
            "weights : [7.01342835]\n",
            "first_output : [0.99997301 0.97087821 0.99999919]\n",
            "weights : [7.01357382]\n",
            "first_output : [0.99997302 0.97088026 0.99999919]\n",
            "weights : [7.01371928]\n",
            "first_output : [0.99997303 0.97088232 0.99999919]\n",
            "weights : [7.01386473]\n",
            "first_output : [0.99997303 0.97088437 0.99999919]\n",
            "weights : [7.01401017]\n",
            "first_output : [0.99997304 0.97088643 0.99999919]\n",
            "weights : [7.0141556]\n",
            "first_output : [0.99997304 0.97088848 0.99999919]\n",
            "weights : [7.01430102]\n",
            "first_output : [0.99997305 0.97089054 0.99999919]\n",
            "weights : [7.01444642]\n",
            "first_output : [0.99997305 0.97089259 0.99999919]\n",
            "weights : [7.01459182]\n",
            "First output after forward propagation : [0.99997305 0.97089259 0.99999919]\n",
            "MSE after forward propagation : 0.00028241393298124843\n",
            "Update weight after backward propagation : [7.01459182]\n",
            "MSE after backward propagation : 2.1744296832333454\n",
            "Weights :  [7.01459182]\n",
            "Bias :  0.32912767085371475\n"
          ]
        }
      ]
    },
    {
      "cell_type": "code",
      "source": [
        "#Predictions\n",
        "pred = np.array([0.1])\n",
        "result = np.dot(pred, weights) + bias\n",
        "resClass = sigmoid(result)\n",
        "print(resClass)\n",
        "\n",
        "if (resClass <= 0.5):\n",
        "  print('Class Prediction :', 'Class A')\n",
        "if (resClass >0.5):\n",
        "  print('Class Prediction :', 'Class B')"
      ],
      "metadata": {
        "colab": {
          "base_uri": "https://localhost:8080/"
        },
        "id": "m6VioF1vwh3s",
        "outputId": "6671aab7-3b20-4248-f835-ee069b825182"
      },
      "execution_count": null,
      "outputs": [
        {
          "output_type": "stream",
          "name": "stdout",
          "text": [
            "0.7370296537206874\n",
            "Class Prediction : Class B\n"
          ]
        }
      ]
    }
  ]
}